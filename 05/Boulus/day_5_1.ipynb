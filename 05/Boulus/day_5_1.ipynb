{
 "cells": [
  {
   "cell_type": "code",
   "execution_count": 1,
   "metadata": {},
   "outputs": [],
   "source": [
    "import numpy as np\n",
    "import pandas as pd"
   ]
  },
  {
   "cell_type": "code",
   "execution_count": 2,
   "metadata": {},
   "outputs": [],
   "source": [
    "data_folder_path = r'C:\\Code\\Personal\\adventofcode2024\\05\\Boulus'\n",
    "rules_example_file = 'rules_example.txt'\n",
    "example_file = 'example.txt'\n",
    "rules_input_file = 'rules_input.txt'\n",
    "input_file = 'input.txt'\n",
    "# file_2 = 'data.txt'"
   ]
  },
  {
   "cell_type": "code",
   "execution_count": 3,
   "metadata": {},
   "outputs": [],
   "source": [
    "data_table = pd.read_csv(rules_example_file, sep=\"|\", header=None)\n",
    "#data_table = pd.read_csv(rules_input_file, sep=\"|\", header=None)"
   ]
  },
  {
   "cell_type": "code",
   "execution_count": 4,
   "metadata": {},
   "outputs": [
    {
     "data": {
      "text/html": [
       "<div>\n",
       "<style scoped>\n",
       "    .dataframe tbody tr th:only-of-type {\n",
       "        vertical-align: middle;\n",
       "    }\n",
       "\n",
       "    .dataframe tbody tr th {\n",
       "        vertical-align: top;\n",
       "    }\n",
       "\n",
       "    .dataframe thead th {\n",
       "        text-align: right;\n",
       "    }\n",
       "</style>\n",
       "<table border=\"1\" class=\"dataframe\">\n",
       "  <thead>\n",
       "    <tr style=\"text-align: right;\">\n",
       "      <th></th>\n",
       "      <th>0</th>\n",
       "      <th>1</th>\n",
       "    </tr>\n",
       "  </thead>\n",
       "  <tbody>\n",
       "    <tr>\n",
       "      <th>0</th>\n",
       "      <td>47</td>\n",
       "      <td>53</td>\n",
       "    </tr>\n",
       "    <tr>\n",
       "      <th>1</th>\n",
       "      <td>97</td>\n",
       "      <td>13</td>\n",
       "    </tr>\n",
       "    <tr>\n",
       "      <th>2</th>\n",
       "      <td>97</td>\n",
       "      <td>61</td>\n",
       "    </tr>\n",
       "    <tr>\n",
       "      <th>3</th>\n",
       "      <td>97</td>\n",
       "      <td>47</td>\n",
       "    </tr>\n",
       "    <tr>\n",
       "      <th>4</th>\n",
       "      <td>75</td>\n",
       "      <td>29</td>\n",
       "    </tr>\n",
       "  </tbody>\n",
       "</table>\n",
       "</div>"
      ],
      "text/plain": [
       "    0   1\n",
       "0  47  53\n",
       "1  97  13\n",
       "2  97  61\n",
       "3  97  47\n",
       "4  75  29"
      ]
     },
     "execution_count": 4,
     "metadata": {},
     "output_type": "execute_result"
    }
   ],
   "source": [
    "data_table.head()"
   ]
  },
  {
   "cell_type": "code",
   "execution_count": 5,
   "metadata": {},
   "outputs": [],
   "source": [
    "df_sorted = data_table.sort_values(by=[0, 1])"
   ]
  },
  {
   "cell_type": "code",
   "execution_count": 6,
   "metadata": {},
   "outputs": [
    {
     "data": {
      "text/html": [
       "<div>\n",
       "<style scoped>\n",
       "    .dataframe tbody tr th:only-of-type {\n",
       "        vertical-align: middle;\n",
       "    }\n",
       "\n",
       "    .dataframe tbody tr th {\n",
       "        vertical-align: top;\n",
       "    }\n",
       "\n",
       "    .dataframe thead th {\n",
       "        text-align: right;\n",
       "    }\n",
       "</style>\n",
       "<table border=\"1\" class=\"dataframe\">\n",
       "  <thead>\n",
       "    <tr style=\"text-align: right;\">\n",
       "      <th></th>\n",
       "      <th>0</th>\n",
       "      <th>1</th>\n",
       "    </tr>\n",
       "  </thead>\n",
       "  <tbody>\n",
       "    <tr>\n",
       "      <th>7</th>\n",
       "      <td>29</td>\n",
       "      <td>13</td>\n",
       "    </tr>\n",
       "    <tr>\n",
       "      <th>13</th>\n",
       "      <td>47</td>\n",
       "      <td>13</td>\n",
       "    </tr>\n",
       "    <tr>\n",
       "      <th>18</th>\n",
       "      <td>47</td>\n",
       "      <td>29</td>\n",
       "    </tr>\n",
       "    <tr>\n",
       "      <th>0</th>\n",
       "      <td>47</td>\n",
       "      <td>53</td>\n",
       "    </tr>\n",
       "    <tr>\n",
       "      <th>16</th>\n",
       "      <td>47</td>\n",
       "      <td>61</td>\n",
       "    </tr>\n",
       "  </tbody>\n",
       "</table>\n",
       "</div>"
      ],
      "text/plain": [
       "     0   1\n",
       "7   29  13\n",
       "13  47  13\n",
       "18  47  29\n",
       "0   47  53\n",
       "16  47  61"
      ]
     },
     "execution_count": 6,
     "metadata": {},
     "output_type": "execute_result"
    }
   ],
   "source": [
    "df_sorted.head()"
   ]
  },
  {
   "cell_type": "code",
   "execution_count": 7,
   "metadata": {},
   "outputs": [
    {
     "name": "stdout",
     "output_type": "stream",
     "text": [
      "True\n"
     ]
    }
   ],
   "source": [
    "def does_rule_pair_exist(data_frame, number_1, number_2):\n",
    "    df_1 = df_sorted.loc[df_sorted[0]==number_1]\n",
    "    df_2 = df_1.loc[df_1[1]==number_2]\n",
    "    return (len(df_2)>=1)\n",
    "\n",
    "\n",
    "number_1 = 75\n",
    "number_2 = 29\n",
    "print(does_rule_pair_exist(df_sorted, number_1, number_2))"
   ]
  },
  {
   "cell_type": "code",
   "execution_count": 8,
   "metadata": {},
   "outputs": [
    {
     "name": "stdout",
     "output_type": "stream",
     "text": [
      "[75 97 47 61]\n",
      "5\n"
     ]
    }
   ],
   "source": [
    "array_test = np.array([75, 47, 61, 53, 29])\n",
    "array_test = np.array([75, 97, 47, 61, 53])\n",
    "print(array_test[:-1])\n",
    "print(len(array_test))"
   ]
  },
  {
   "cell_type": "code",
   "execution_count": 9,
   "metadata": {},
   "outputs": [
    {
     "name": "stdout",
     "output_type": "stream",
     "text": [
      "[False, True, True, True]\n",
      "[False, True, True, True]\n",
      "[False, False, True, True]\n",
      "[False, False, False, True]\n"
     ]
    }
   ],
   "source": [
    "len_array_test = len(array_test[:-1])\n",
    "pair_rule_validity_list = []\n",
    "for i in array_test[:-1]:\n",
    "    for j in array_test[1:]:\n",
    "        pair_rule_validity_list.append(does_rule_pair_exist(df_sorted, i, j))\n",
    "    print(pair_rule_validity_list)\n",
    "    pair_rule_validity_list = []"
   ]
  },
  {
   "cell_type": "code",
   "execution_count": 10,
   "metadata": {},
   "outputs": [],
   "source": [
    "def test_array_validity(array):\n",
    "    valid_list = False\n",
    "    len_array = len(array)\n",
    "    pair_rule_validity_list = []\n",
    "    for index, i in enumerate(array[:-1]):\n",
    "        for j in array[1:]:\n",
    "            pair_rule_validity_list.append(does_rule_pair_exist(df_sorted, i, j))\n",
    "        #print(pair_rule_validity_list)\n",
    "        #print(len_array-index-1, sum(pair_rule_validity_list))\n",
    "        if (len_array-index-1 != sum(pair_rule_validity_list)):\n",
    "            return valid_list\n",
    "        pair_rule_validity_list = []\n",
    "    valid_list = True\n",
    "    return valid_list\n"
   ]
  },
  {
   "cell_type": "code",
   "execution_count": 11,
   "metadata": {},
   "outputs": [
    {
     "data": {
      "text/plain": [
       "True"
      ]
     },
     "execution_count": 11,
     "metadata": {},
     "output_type": "execute_result"
    }
   ],
   "source": [
    "does_rule_pair_exist(df_sorted, 97, 75)"
   ]
  },
  {
   "cell_type": "code",
   "execution_count": 12,
   "metadata": {},
   "outputs": [],
   "source": [
    "def make_array_valid(array_input):\n",
    "    array = array_input.copy()\n",
    "    valid_list = False\n",
    "    len_array = len(array)\n",
    "    pair_rule_validity_list = []\n",
    "    array_updated = False\n",
    "    while not valid_list:\n",
    "        array_updated = False\n",
    "        print(\"Not valid \", array)\n",
    "        pair_rule_validity_list = []\n",
    "        for index, i in enumerate(array[:-1]):\n",
    "            if array_updated:\n",
    "                continue\n",
    "            for index_j, j in enumerate(array[1:]):\n",
    "                if array_updated:\n",
    "                    continue\n",
    "                if not does_rule_pair_exist(df_sorted, i, j):\n",
    "                    array[index] = j\n",
    "                    array[index_j+1] = i\n",
    "                    print(array, \"array updated\")\n",
    "                    array_updated = True\n",
    "                    continue\n",
    "                pair_rule_validity_list.append(does_rule_pair_exist(df_sorted, i, j))\n",
    "            print(pair_rule_validity_list)\n",
    "            #print(len_array-index-1, sum(pair_rule_validity_list))\n",
    "            if (len_array-index-1 != sum(pair_rule_validity_list)):\n",
    "                valid_list = False\n",
    "                print(\"continue\")\n",
    "                continue\n",
    "            pair_rule_validity_list = []\n",
    "        if not array_updated:\n",
    "            valid_list = True\n",
    "    return valid_list"
   ]
  },
  {
   "cell_type": "code",
   "execution_count": 13,
   "metadata": {},
   "outputs": [
    {
     "data": {
      "text/plain": [
       "False"
      ]
     },
     "execution_count": 13,
     "metadata": {},
     "output_type": "execute_result"
    }
   ],
   "source": [
    "test_array_validity(array_test)"
   ]
  },
  {
   "cell_type": "code",
   "execution_count": 14,
   "metadata": {},
   "outputs": [
    {
     "name": "stdout",
     "output_type": "stream",
     "text": [
      "[75 97 47 61 53]\n"
     ]
    }
   ],
   "source": [
    "print(array_test)\n",
    "#make_array_valid(array_test)"
   ]
  },
  {
   "cell_type": "code",
   "execution_count": 15,
   "metadata": {},
   "outputs": [
    {
     "name": "stdout",
     "output_type": "stream",
     "text": [
      "[75 47 61 53 29] True 61\n",
      "[97 61 53 29 13] True 53\n",
      "[75 29 13] True 29\n",
      "[75 97 47 61 53] False 47\n",
      "[61 13 29] False 13\n",
      "[97 13 75 29 47] False 75\n",
      "143\n"
     ]
    }
   ],
   "source": [
    "data = example_file\n",
    "#data = input_file\n",
    "valid_lists_middle_points = []\n",
    "for i, line in enumerate(open(data)):\n",
    "    line_list = np.array(line.split(','), dtype=int)\n",
    "    print(line_list, test_array_validity(line_list), line_list[int((len(line_list) - 1)/2)]) \n",
    "    if test_array_validity(line_list):\n",
    "        valid_lists_middle_points.append(line_list[int((len(line_list) - 1)/2)])\n",
    "print(sum(valid_lists_middle_points))"
   ]
  }
 ],
 "metadata": {
  "kernelspec": {
   "display_name": "Python 3",
   "language": "python",
   "name": "python3"
  },
  "language_info": {
   "codemirror_mode": {
    "name": "ipython",
    "version": 3
   },
   "file_extension": ".py",
   "mimetype": "text/x-python",
   "name": "python",
   "nbconvert_exporter": "python",
   "pygments_lexer": "ipython3",
   "version": "3.12.4"
  }
 },
 "nbformat": 4,
 "nbformat_minor": 2
}
