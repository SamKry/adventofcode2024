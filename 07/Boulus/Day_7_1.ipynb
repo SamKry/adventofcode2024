{
 "cells": [
  {
   "cell_type": "code",
   "execution_count": 77,
   "metadata": {},
   "outputs": [],
   "source": [
    "import numpy as np\n",
    "import pandas as pd"
   ]
  },
  {
   "cell_type": "code",
   "execution_count": 78,
   "metadata": {},
   "outputs": [],
   "source": [
    "example_file = 'example.txt'\n",
    "data_input_file = 'data_input.txt'"
   ]
  },
  {
   "cell_type": "code",
   "execution_count": 79,
   "metadata": {},
   "outputs": [],
   "source": [
    "# data = example_file\n",
    "data = data_input_file\n",
    "df = pd.read_csv(data, sep=\":\", header=None)"
   ]
  },
  {
   "cell_type": "code",
   "execution_count": 80,
   "metadata": {},
   "outputs": [
    {
     "data": {
      "text/html": [
       "<div>\n",
       "<style scoped>\n",
       "    .dataframe tbody tr th:only-of-type {\n",
       "        vertical-align: middle;\n",
       "    }\n",
       "\n",
       "    .dataframe tbody tr th {\n",
       "        vertical-align: top;\n",
       "    }\n",
       "\n",
       "    .dataframe thead th {\n",
       "        text-align: right;\n",
       "    }\n",
       "</style>\n",
       "<table border=\"1\" class=\"dataframe\">\n",
       "  <thead>\n",
       "    <tr style=\"text-align: right;\">\n",
       "      <th></th>\n",
       "      <th>0</th>\n",
       "      <th>1</th>\n",
       "    </tr>\n",
       "  </thead>\n",
       "  <tbody>\n",
       "    <tr>\n",
       "      <th>0</th>\n",
       "      <td>13282106</td>\n",
       "      <td>9 7 244 864 689 9</td>\n",
       "    </tr>\n",
       "    <tr>\n",
       "      <th>1</th>\n",
       "      <td>16028321</td>\n",
       "      <td>10 437 7 727 385 8 1</td>\n",
       "    </tr>\n",
       "    <tr>\n",
       "      <th>2</th>\n",
       "      <td>1718</td>\n",
       "      <td>1 9 1 46 8 339</td>\n",
       "    </tr>\n",
       "    <tr>\n",
       "      <th>3</th>\n",
       "      <td>4075146</td>\n",
       "      <td>39 9 8 514 6</td>\n",
       "    </tr>\n",
       "    <tr>\n",
       "      <th>4</th>\n",
       "      <td>32764104</td>\n",
       "      <td>3 7 8 2 5 1 3 263 7 85 2 6</td>\n",
       "    </tr>\n",
       "  </tbody>\n",
       "</table>\n",
       "</div>"
      ],
      "text/plain": [
       "          0                            1\n",
       "0  13282106            9 7 244 864 689 9\n",
       "1  16028321         10 437 7 727 385 8 1\n",
       "2      1718               1 9 1 46 8 339\n",
       "3   4075146                 39 9 8 514 6\n",
       "4  32764104   3 7 8 2 5 1 3 263 7 85 2 6"
      ]
     },
     "execution_count": 80,
     "metadata": {},
     "output_type": "execute_result"
    }
   ],
   "source": [
    "df.head()"
   ]
  },
  {
   "cell_type": "code",
   "execution_count": 81,
   "metadata": {},
   "outputs": [
    {
     "data": {
      "text/plain": [
       "[9, 7, 244, 864, 689, 9]"
      ]
     },
     "execution_count": 81,
     "metadata": {},
     "output_type": "execute_result"
    }
   ],
   "source": [
    "list_string = (df[1][0].split())\n",
    "list(map(int, list_string))"
   ]
  },
  {
   "cell_type": "code",
   "execution_count": 82,
   "metadata": {},
   "outputs": [
    {
     "name": "stdout",
     "output_type": "stream",
     "text": [
      "13282106\n"
     ]
    }
   ],
   "source": [
    "print(df[0][0])"
   ]
  },
  {
   "cell_type": "code",
   "execution_count": 83,
   "metadata": {},
   "outputs": [],
   "source": [
    "from itertools import product"
   ]
  },
  {
   "cell_type": "code",
   "execution_count": 84,
   "metadata": {},
   "outputs": [
    {
     "name": "stdout",
     "output_type": "stream",
     "text": [
      "(0, 0)\n",
      "(0, 1)\n",
      "(1, 0)\n",
      "(1, 1)\n"
     ]
    }
   ],
   "source": [
    "items = [0, 1]\n",
    "for item in product(items, repeat=2):\n",
    "    print(item)"
   ]
  },
  {
   "cell_type": "code",
   "execution_count": 85,
   "metadata": {},
   "outputs": [
    {
     "name": "stdout",
     "output_type": "stream",
     "text": [
      "[0, 6, 8, 9, 13, 17, 19, 20, 21, 22, 25, 31, 33, 36, 39, 40, 41, 48, 49, 50, 52, 53, 54, 55, 56, 57, 60, 64, 67, 68, 69, 70, 71, 76, 79, 80, 81, 83, 84, 91, 96, 99, 101, 102, 107, 108, 110, 112, 117, 119, 123, 124, 125, 126, 129, 130, 131, 133, 135, 137, 138, 139, 141, 146, 148, 149, 153, 154, 156, 157, 159, 161, 163, 164, 165, 166, 167, 168, 174, 175, 176, 179, 180, 181, 184, 189, 191, 192, 193, 194, 196, 200, 201, 202, 203, 205, 211, 212, 216, 219, 220, 223, 232, 245, 246, 247, 248, 255, 260, 262, 265, 266, 267, 270, 279, 281, 286, 289, 290, 291, 292, 301, 303, 304, 305, 310, 323, 328, 331, 332, 333, 334, 337, 338, 340, 341, 343, 344, 353, 357, 360, 361, 367, 368, 370, 372, 374, 379, 380, 381, 383, 385, 387, 390, 394, 396, 406, 407, 408, 410, 419, 422, 423, 424, 425, 426, 428, 429, 430, 431, 434, 436, 437, 443, 446, 450, 452, 454, 460, 462, 464, 466, 468, 470, 471, 476, 477, 478, 479, 481, 483, 485, 489, 491, 492, 499, 506, 508, 509, 513, 518, 521, 522, 526, 532, 533, 534, 535, 537, 541, 542, 546, 547, 548, 549, 550, 551, 554, 557, 558, 565, 568, 573, 574, 575, 576, 577, 578, 583, 586, 591, 592, 593, 594, 600, 601, 604, 607, 608, 609, 610, 611, 612, 614, 615, 616, 617, 619, 621, 622, 633, 636, 638, 640, 641, 643, 645, 648, 649, 650, 651, 652, 654, 655, 661, 662, 665, 671, 675, 676, 679, 684, 685, 687, 688, 690, 694, 695, 696, 699, 702, 705, 706, 707, 713, 717, 718, 719, 723, 725, 726, 727, 729, 731, 735, 737, 738, 739, 745, 748, 749, 751, 752, 754, 757, 762, 763, 766, 767, 768, 770, 772, 773, 775, 776, 777, 778, 780, 783, 786, 787, 790, 791, 792, 796, 799, 803, 805, 807, 808, 809, 812, 813, 815, 817, 818, 819, 822, 825, 832, 833, 835, 837, 838, 840, 841, 842, 847, 848]\n",
      "1708857123053\n"
     ]
    }
   ],
   "source": [
    "valid_equations_list = []\n",
    "total_calib_result = 0\n",
    "for i in range(len(df)):\n",
    "    #print(\"iteration: \", i)\n",
    "    expected_total = df[0][i]\n",
    "    #print(expected_total)\n",
    "    number_list_string = (df[1][i].split())\n",
    "    number_list = list(map(int, number_list_string))\n",
    "    #print(number_list)\n",
    "    num_of_possible_combination = 2**(len(number_list)-1)\n",
    "    # for number in range(num_of_possible_combination):\n",
    "    #     operands_list = [int(ii) for ii in list('{0:0b}'.format(number))]\n",
    "    #     print(operands_list)\n",
    "    equation_valid = False\n",
    "    for operands_list in product(items, repeat=len(number_list)-1):\n",
    "        #print(operands_list)\n",
    "        total = number_list[0]\n",
    "        for ii, operand in enumerate(operands_list):\n",
    "            if operand == 0:\n",
    "                total = total + number_list[ii+1]\n",
    "            elif operand == 1:\n",
    "                total = total * number_list[ii+1]\n",
    "        if total == expected_total:\n",
    "            equation_valid = True \n",
    "            #print(total)\n",
    "            #break\n",
    "    if equation_valid:\n",
    "        valid_equations_list.append(i)\n",
    "        #print(total_calib_result, expected_total)\n",
    "        total_calib_result = total_calib_result + expected_total\n",
    "\n",
    "print(valid_equations_list)\n",
    "print(total_calib_result)\n",
    "        #print(total)\n",
    "            "
   ]
  }
 ],
 "metadata": {
  "kernelspec": {
   "display_name": "Python 3",
   "language": "python",
   "name": "python3"
  },
  "language_info": {
   "codemirror_mode": {
    "name": "ipython",
    "version": 3
   },
   "file_extension": ".py",
   "mimetype": "text/x-python",
   "name": "python",
   "nbconvert_exporter": "python",
   "pygments_lexer": "ipython3",
   "version": "3.12.4"
  }
 },
 "nbformat": 4,
 "nbformat_minor": 2
}
