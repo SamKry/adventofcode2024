{
 "cells": [
  {
   "cell_type": "code",
   "execution_count": 429,
   "metadata": {},
   "outputs": [],
   "source": [
    "import numpy as np\n",
    "import pandas as pd"
   ]
  },
  {
   "cell_type": "code",
   "execution_count": 430,
   "metadata": {},
   "outputs": [],
   "source": [
    "example_file = 'example.txt'\n",
    "data_input_file = 'data_input.txt'\n",
    "data_input_file_2 = 'data_input_2.txt'"
   ]
  },
  {
   "cell_type": "code",
   "execution_count": 431,
   "metadata": {},
   "outputs": [],
   "source": [
    "data = example_file\n",
    "# data = data_input_file\n",
    "# data = data_input_file_2\n",
    "df = pd.read_csv(data, sep=\" \", header=None)"
   ]
  },
  {
   "cell_type": "code",
   "execution_count": 432,
   "metadata": {},
   "outputs": [],
   "source": [
    "# df.shape[0]"
   ]
  },
  {
   "cell_type": "code",
   "execution_count": 433,
   "metadata": {},
   "outputs": [],
   "source": [
    "# print(list(df[0][0]))\n",
    "# print(len(list(df[0][0])))"
   ]
  },
  {
   "cell_type": "code",
   "execution_count": 434,
   "metadata": {},
   "outputs": [],
   "source": [
    "#df.head()"
   ]
  },
  {
   "cell_type": "code",
   "execution_count": 435,
   "metadata": {},
   "outputs": [
    {
     "name": "stdout",
     "output_type": "stream",
     "text": [
      "12 12\n"
     ]
    }
   ],
   "source": [
    "map_size_x = len(list(df[0][0]))\n",
    "map_size_y = len(df)\n",
    "print(map_size_x, map_size_y)\n",
    "\n",
    "map = np.zeros((df.shape[0], len(list(df[0][0]))), dtype=int)\n",
    "#print(map.shape)\n",
    "#print(map)"
   ]
  },
  {
   "cell_type": "code",
   "execution_count": 436,
   "metadata": {},
   "outputs": [
    {
     "name": "stdout",
     "output_type": "stream",
     "text": [
      "Line Solution is y = -1.0x + 0.0\n",
      "-9.0\n"
     ]
    }
   ],
   "source": [
    "# equation of a line y = mx + c\n",
    "def find_line_equation(point_1, point_2):\n",
    "    x1 = point_1[0]\n",
    "    y1 = -1*point_1[1]\n",
    "    x2 = point_2[0]\n",
    "    y2 = -1*point_2[1]\n",
    "    slope = (y2-y1)/(x2-x1)\n",
    "    y_intercept = (y1 - slope*x1)\n",
    "\n",
    "    return slope, y_intercept\n",
    "\n",
    "# point_1 = [8, 1]\n",
    "# point_2 = [5, 2]\n",
    "point_1 = [8, 8]\n",
    "point_2 = [9, 9]\n",
    "m, c = find_line_equation(point_1, point_2)\n",
    "print(\"Line Solution is y = {m}x + {c}\".format(m=m,c=c))\n",
    "\n",
    "x = point_2[0]\n",
    "y = m*x + c\n",
    "print(y)\n"
   ]
  },
  {
   "cell_type": "code",
   "execution_count": 437,
   "metadata": {},
   "outputs": [
    {
     "name": "stdout",
     "output_type": "stream",
     "text": [
      "1\n",
      "7 -7.0\n",
      "10 -10.0\n"
     ]
    }
   ],
   "source": [
    "distance_x = (point_2[0] - point_1[0])\n",
    "print(distance_x)\n",
    "x = point_1[0] - distance_x\n",
    "y = m*x + c\n",
    "print(x, y)\n",
    "x = point_2[0] + distance_x\n",
    "y = m*x + c\n",
    "print(x, y)"
   ]
  },
  {
   "cell_type": "code",
   "execution_count": 438,
   "metadata": {},
   "outputs": [
    {
     "name": "stdout",
     "output_type": "stream",
     "text": [
      "[11, 0] [2, 3]\n"
     ]
    }
   ],
   "source": [
    "# find_antinodes is a function creates a virtual line and ...\n",
    "def find_antinodes_from_two_map_points(point_1, point_2):\n",
    "    m, c = find_line_equation(point_1, point_2)\n",
    "    distance_x = (point_2[0] - point_1[0])\n",
    "    #print(distance_x)\n",
    "    x = point_1[0] - distance_x\n",
    "    y = int(m*x + c)\n",
    "    #print(x, y)\n",
    "    antinode_1 = [x, -y]\n",
    "    x = point_2[0] + distance_x\n",
    "    y = int(m*x + c)\n",
    "    #print(x, y)\n",
    "    antinode_2 = [x, -y]\n",
    "    return antinode_1, antinode_2\n",
    "\n",
    "point_1 = [8, 1]\n",
    "point_2 = [5, 2]\n",
    "# point_1 = [8, 8]\n",
    "# point_2 = [9, 9]\n",
    "antinode_1, antinode_2 = find_antinodes_from_two_map_points(point_1, point_2)\n",
    "\n",
    "print(antinode_1, antinode_2)"
   ]
  },
  {
   "cell_type": "code",
   "execution_count": 439,
   "metadata": {},
   "outputs": [],
   "source": [
    "def place_antinode_in_map(map, antinode_1, antinode_2):\n",
    "    map_size_x = map.shape[1]\n",
    "    map_size_y = map.shape[0]\n",
    "    # antinode[0]: x (columns), antinode[1]: y (rows)\n",
    "    if 0 <= antinode_1[0] <= map_size_x-1 and 0 <= antinode_1[1] <= map_size_y-1:\n",
    "        map[antinode_1[1]][antinode_1[0]] = 1\n",
    "    if 0 <= antinode_2[0] <= map_size_x-1 and 0 <= antinode_2[1] <= map_size_y-1:\n",
    "        map[antinode_2[1]][antinode_2[0]] = 1\n",
    "\n",
    "map = np.zeros((df.shape[0], len(list(df[0][0]))), dtype=int)\n",
    "place_antinode_in_map(map, [0, 0], [2,2])\n",
    "place_antinode_in_map(map, [-1, -1], [1,1])\n",
    "place_antinode_in_map(map, [11, 0], [1,1])\n",
    "#print(map)"
   ]
  },
  {
   "cell_type": "code",
   "execution_count": 440,
   "metadata": {},
   "outputs": [],
   "source": [
    "map = np.zeros((df.shape[0], len(list(df[0][0]))), dtype=int)\n",
    "for y1 in range(map.shape[0]):\n",
    "    row_list =  list(df[0][y1])\n",
    "    for x1, element in enumerate(row_list):\n",
    "        if element != '.' and element.isalnum():\n",
    "            for y2 in range(map.shape[0]):\n",
    "                row_list_2 =  list(df[0][y2])\n",
    "                for x2, element_2 in enumerate(row_list_2):\n",
    "                    if x1 == x2 and y1 == y2:\n",
    "                        skip = True\n",
    "                    else:\n",
    "                        skip = False\n",
    "                    if not skip and element_2 == element:\n",
    "                        antinode_1, antinode_2 = find_antinodes_from_two_map_points([x1, y1], [x2, y2])\n",
    "                        row_list_3 =  list(df[0][y1])\n",
    "                        place_antinode_in_map(map, antinode_1, antinode_2)\n",
    "                        # print(element, element_2)\n",
    "                        # print([x1, y1], [x2, y2])\n",
    "                        # print(antinode_1, antinode_2)\n",
    "                        #print((element, element_2), ([x1, y1], [x2, y2]), (antinode_1, antinode_2))\n",
    "                        # print(map)"
   ]
  },
  {
   "cell_type": "code",
   "execution_count": 441,
   "metadata": {},
   "outputs": [
    {
     "data": {
      "text/plain": [
       "array([[0, 0, 0, 0, 0, 0, 1, 0, 0, 0, 0, 1],\n",
       "       [0, 0, 0, 1, 0, 0, 0, 0, 0, 0, 0, 0],\n",
       "       [0, 0, 0, 0, 1, 0, 0, 0, 0, 0, 1, 0],\n",
       "       [0, 0, 1, 0, 0, 0, 0, 0, 0, 0, 0, 0],\n",
       "       [0, 0, 0, 0, 0, 0, 0, 0, 0, 1, 0, 0],\n",
       "       [0, 1, 0, 0, 0, 0, 1, 0, 0, 0, 0, 0],\n",
       "       [0, 0, 0, 1, 0, 0, 0, 0, 0, 0, 0, 0],\n",
       "       [1, 0, 0, 0, 0, 0, 0, 1, 0, 0, 0, 0],\n",
       "       [0, 0, 0, 0, 0, 0, 0, 0, 0, 0, 0, 0],\n",
       "       [0, 0, 0, 0, 0, 0, 0, 0, 0, 0, 0, 0],\n",
       "       [0, 0, 0, 0, 0, 0, 0, 0, 0, 0, 1, 0],\n",
       "       [0, 0, 0, 0, 0, 0, 0, 0, 0, 0, 1, 0]])"
      ]
     },
     "execution_count": 441,
     "metadata": {},
     "output_type": "execute_result"
    }
   ],
   "source": [
    "map"
   ]
  },
  {
   "cell_type": "code",
   "execution_count": 442,
   "metadata": {},
   "outputs": [
    {
     "name": "stdout",
     "output_type": "stream",
     "text": [
      "[[0 0 0 0 0 0 1 0 0 0 0 1]\n",
      " [0 0 0 1 0 0 0 0 0 0 0 0]\n",
      " [0 0 0 0 1 0 0 0 0 0 1 0]\n",
      " [0 0 1 0 0 0 0 0 0 0 0 0]\n",
      " [0 0 0 0 0 0 0 0 0 1 0 0]\n",
      " [0 1 0 0 0 0 1 0 0 0 0 0]\n",
      " [0 0 0 1 0 0 0 0 0 0 0 0]\n",
      " [1 0 0 0 0 0 0 1 0 0 0 0]\n",
      " [0 0 0 0 0 0 0 0 0 0 0 0]\n",
      " [0 0 0 0 0 0 0 0 0 0 0 0]\n",
      " [0 0 0 0 0 0 0 0 0 0 1 0]\n",
      " [0 0 0 0 0 0 0 0 0 0 1 0]]\n",
      "14\n"
     ]
    }
   ],
   "source": [
    "print(map)\n",
    "print(np.count_nonzero(map))"
   ]
  }
 ],
 "metadata": {
  "kernelspec": {
   "display_name": "Python 3",
   "language": "python",
   "name": "python3"
  },
  "language_info": {
   "codemirror_mode": {
    "name": "ipython",
    "version": 3
   },
   "file_extension": ".py",
   "mimetype": "text/x-python",
   "name": "python",
   "nbconvert_exporter": "python",
   "pygments_lexer": "ipython3",
   "version": "3.12.4"
  }
 },
 "nbformat": 4,
 "nbformat_minor": 2
}
