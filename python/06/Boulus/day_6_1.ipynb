{
 "cells": [
  {
   "cell_type": "code",
   "execution_count": 92,
   "metadata": {},
   "outputs": [],
   "source": [
    "import numpy as np\n",
    "import pandas as pd"
   ]
  },
  {
   "cell_type": "code",
   "execution_count": 93,
   "metadata": {},
   "outputs": [],
   "source": [
    "example_file = 'example.txt'\n",
    "data_input_file = 'data_input.txt'"
   ]
  },
  {
   "cell_type": "code",
   "execution_count": 94,
   "metadata": {},
   "outputs": [],
   "source": [
    "# data = example_file\n",
    "data = data_input_file\n",
    "df = pd.read_csv(data, sep=\" \", header=None)"
   ]
  },
  {
   "cell_type": "code",
   "execution_count": 95,
   "metadata": {},
   "outputs": [
    {
     "data": {
      "text/plain": [
       "130"
      ]
     },
     "execution_count": 95,
     "metadata": {},
     "output_type": "execute_result"
    }
   ],
   "source": [
    "df.shape[0]"
   ]
  },
  {
   "cell_type": "code",
   "execution_count": 96,
   "metadata": {},
   "outputs": [
    {
     "name": "stdout",
     "output_type": "stream",
     "text": [
      "['.', '.', '.', '.', '#', '.', '.', '.', '.', '#', '.', '.', '.', '.', '.', '.', '.', '.', '.', '.', '.', '.', '.', '#', '.', '.', '.', '.', '.', '.', '.', '.', '.', '.', '.', '#', '.', '.', '.', '.', '.', '.', '.', '.', '.', '.', '.', '#', '.', '.', '.', '.', '.', '.', '.', '.', '.', '.', '.', '.', '.', '.', '.', '.', '.', '.', '.', '.', '.', '.', '.', '.', '.', '.', '.', '.', '.', '.', '.', '.', '#', '.', '.', '.', '.', '.', '.', '.', '.', '.', '.', '.', '.', '.', '.', '.', '.', '.', '.', '#', '.', '.', '.', '.', '.', '.', '.', '.', '.', '.', '.', '.', '.', '.', '.', '.', '.', '.', '.', '.', '.', '.', '.', '.', '.', '.', '.', '.', '.', '.']\n",
      "130\n"
     ]
    }
   ],
   "source": [
    "print(list(df[0][0]))\n",
    "print(len(list(df[0][0])))"
   ]
  },
  {
   "cell_type": "code",
   "execution_count": null,
   "metadata": {},
   "outputs": [],
   "source": []
  },
  {
   "cell_type": "code",
   "execution_count": 97,
   "metadata": {},
   "outputs": [],
   "source": [
    "# with open(data) as file:\n",
    "#     for line in file:\n",
    "#         print(list(line))\n"
   ]
  },
  {
   "cell_type": "code",
   "execution_count": 98,
   "metadata": {},
   "outputs": [
    {
     "data": {
      "text/html": [
       "<div>\n",
       "<style scoped>\n",
       "    .dataframe tbody tr th:only-of-type {\n",
       "        vertical-align: middle;\n",
       "    }\n",
       "\n",
       "    .dataframe tbody tr th {\n",
       "        vertical-align: top;\n",
       "    }\n",
       "\n",
       "    .dataframe thead th {\n",
       "        text-align: right;\n",
       "    }\n",
       "</style>\n",
       "<table border=\"1\" class=\"dataframe\">\n",
       "  <thead>\n",
       "    <tr style=\"text-align: right;\">\n",
       "      <th></th>\n",
       "      <th>0</th>\n",
       "    </tr>\n",
       "  </thead>\n",
       "  <tbody>\n",
       "    <tr>\n",
       "      <th>0</th>\n",
       "      <td>....#....#.............#...........#.............</td>\n",
       "    </tr>\n",
       "    <tr>\n",
       "      <th>1</th>\n",
       "      <td>#................................................</td>\n",
       "    </tr>\n",
       "    <tr>\n",
       "      <th>2</th>\n",
       "      <td>.........................#.......................</td>\n",
       "    </tr>\n",
       "    <tr>\n",
       "      <th>3</th>\n",
       "      <td>..............#..................................</td>\n",
       "    </tr>\n",
       "    <tr>\n",
       "      <th>4</th>\n",
       "      <td>..#.........#.......................#............</td>\n",
       "    </tr>\n",
       "  </tbody>\n",
       "</table>\n",
       "</div>"
      ],
      "text/plain": [
       "                                                   0\n",
       "0  ....#....#.............#...........#.............\n",
       "1  #................................................\n",
       "2  .........................#.......................\n",
       "3  ..............#..................................\n",
       "4  ..#.........#.......................#............"
      ]
     },
     "execution_count": 98,
     "metadata": {},
     "output_type": "execute_result"
    }
   ],
   "source": [
    "df.head()"
   ]
  },
  {
   "cell_type": "code",
   "execution_count": 99,
   "metadata": {},
   "outputs": [
    {
     "name": "stdout",
     "output_type": "stream",
     "text": [
      "0\n"
     ]
    }
   ],
   "source": [
    "class guard:\n",
    "    def __init__(self, initial_x, initial_y, initial_direction):\n",
    "        self.x = initial_x\n",
    "        self.y = initial_y\n",
    "        self.direction = initial_direction # 0: up, 1: right, 2: down, 3: left\n",
    "        self.is_in_map = True\n",
    "        self.x_last = initial_x\n",
    "        self.y_last = initial_y\n",
    "    def update_direction(self):\n",
    "        if self.direction == 0:\n",
    "            self.direction = 1\n",
    "        elif self.direction == 1:\n",
    "            self.direction = 2\n",
    "        elif self.direction == 2:\n",
    "            self.direction = 3\n",
    "        elif self.direction == 3:\n",
    "            self.direction = 0\n",
    "\n",
    "guard = guard(0, 0, 0)\n",
    "print(guard.direction)"
   ]
  },
  {
   "cell_type": "code",
   "execution_count": 100,
   "metadata": {},
   "outputs": [
    {
     "name": "stdout",
     "output_type": "stream",
     "text": [
      "52 80\n",
      "795\n"
     ]
    }
   ],
   "source": [
    "# problem init\n",
    "high_number = 10000\n",
    "data_matrix = np.zeros((df.shape[0], len(list(df[0][0]))), dtype=int)\n",
    "for i in range(data_matrix.shape[0]):\n",
    "    row_list =  list(df[0][i])\n",
    "    for j, element in enumerate(row_list):\n",
    "        if element == '#':\n",
    "            data_matrix[i][j] = high_number\n",
    "        elif element == '^':\n",
    "            data_matrix[i][j] = 1\n",
    "            guard.x = i\n",
    "            guard.y = j\n",
    "print(guard.x, guard.y)\n",
    "data_matrix_org = data_matrix.copy()\n",
    "obstacles_num = np.count_nonzero(data_matrix_org) - 1\n",
    "print(obstacles_num)"
   ]
  },
  {
   "cell_type": "code",
   "execution_count": 101,
   "metadata": {},
   "outputs": [],
   "source": [
    "def is_guard_in_map(guard, map):\n",
    "    if (0 <= guard.x < map.shape[0]) and (0 <= guard.y < map.shape[1]):\n",
    "        return True\n",
    "    \n",
    "def will_guard_be_in_map(x_temp, y_temp, map):\n",
    "    if (0 <= x_temp < map.shape[0]) and (0 <= y_temp < map.shape[1]):\n",
    "        return True\n",
    "\n",
    "guard.is_in_map = is_guard_in_map(guard, data_matrix)\n",
    "        "
   ]
  },
  {
   "cell_type": "code",
   "execution_count": 105,
   "metadata": {},
   "outputs": [],
   "source": [
    "def move_guard_in_map(guard, data_matrix):\n",
    "    if guard.direction == 0:\n",
    "        x_temp = guard.x - 1\n",
    "        y_temp = guard.y\n",
    "        if (data_matrix[x_temp][y_temp] < high_number):\n",
    "            guard.x = x_temp\n",
    "            guard.y = y_temp\n",
    "            if not will_guard_be_in_map(x_temp, y_temp, data_matrix):\n",
    "                guard.is_in_map = False\n",
    "                guard.x_last = x_temp\n",
    "                guard.y_last = y_temp\n",
    "                return\n",
    "            data_matrix[x_temp][y_temp] = data_matrix[x_temp][y_temp] + 1\n",
    "        else:\n",
    "            #print(\"obstacle ahead\")\n",
    "            guard.update_direction()\n",
    "    elif guard.direction == 1:\n",
    "        x_temp = guard.x\n",
    "        y_temp = guard.y + 1\n",
    "        if (data_matrix[x_temp][y_temp] < high_number):\n",
    "            guard.x = x_temp\n",
    "            guard.y = y_temp\n",
    "            if not will_guard_be_in_map(x_temp, y_temp, data_matrix):\n",
    "                guard.is_in_map = False\n",
    "                guard.x_last = x_temp\n",
    "                guard.y_last = y_temp\n",
    "                return\n",
    "            data_matrix[x_temp][y_temp] = data_matrix[x_temp][y_temp] + 1\n",
    "        else:\n",
    "            print(\"obstacle ahead\")\n",
    "            guard.update_direction()\n",
    "    elif guard.direction == 2:\n",
    "        x_temp = guard.x + 1\n",
    "        y_temp = guard.y\n",
    "        if not will_guard_be_in_map(x_temp, y_temp, data_matrix):\n",
    "                guard.is_in_map = False\n",
    "                guard.x_last = x_temp\n",
    "                guard.y_last = y_temp\n",
    "                return\n",
    "        if (data_matrix[x_temp][y_temp] < high_number):\n",
    "            guard.x = x_temp\n",
    "            guard.y = y_temp\n",
    "            data_matrix[x_temp][y_temp] = data_matrix[x_temp][y_temp] + 1\n",
    "        else:\n",
    "            print(\"obstacle ahead\")\n",
    "            guard.update_direction()\n",
    "    elif guard.direction == 3:\n",
    "        x_temp = guard.x\n",
    "        y_temp = guard.y - 1\n",
    "        if not will_guard_be_in_map(x_temp, y_temp, data_matrix):\n",
    "                guard.is_in_map = False\n",
    "                guard.x_last = x_temp\n",
    "                guard.y_last = y_temp\n",
    "                return\n",
    "        if (data_matrix[x_temp][y_temp] < high_number):\n",
    "            guard.x = x_temp\n",
    "            guard.y = y_temp\n",
    "            data_matrix[x_temp][y_temp] = data_matrix[x_temp][y_temp] + 1\n",
    "        else:\n",
    "            print(\"obstacle ahead\")\n",
    "            guard.update_direction()\n",
    "    else:\n",
    "        print(\"do nothing?\")\n"
   ]
  },
  {
   "cell_type": "code",
   "execution_count": null,
   "metadata": {},
   "outputs": [],
   "source": [
    "# solve\n",
    "while guard.is_in_map:\n",
    "    move_guard_in_map(guard, data_matrix)\n",
    "    #print(data_matrix)\n",
    "    "
   ]
  },
  {
   "cell_type": "code",
   "execution_count": 104,
   "metadata": {},
   "outputs": [
    {
     "name": "stdout",
     "output_type": "stream",
     "text": [
      "5177\n"
     ]
    }
   ],
   "source": [
    "print(np.count_nonzero(data_matrix)-obstacles_num)"
   ]
  }
 ],
 "metadata": {
  "kernelspec": {
   "display_name": "Python 3",
   "language": "python",
   "name": "python3"
  },
  "language_info": {
   "codemirror_mode": {
    "name": "ipython",
    "version": 3
   },
   "file_extension": ".py",
   "mimetype": "text/x-python",
   "name": "python",
   "nbconvert_exporter": "python",
   "pygments_lexer": "ipython3",
   "version": "3.12.4"
  }
 },
 "nbformat": 4,
 "nbformat_minor": 2
}
