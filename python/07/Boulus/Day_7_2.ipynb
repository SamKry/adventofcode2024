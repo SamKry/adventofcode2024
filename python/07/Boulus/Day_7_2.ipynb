{
 "cells": [
  {
   "cell_type": "code",
   "execution_count": 15,
   "metadata": {},
   "outputs": [],
   "source": [
    "import numpy as np\n",
    "import pandas as pd"
   ]
  },
  {
   "cell_type": "code",
   "execution_count": 16,
   "metadata": {},
   "outputs": [],
   "source": [
    "example_file = 'example.txt'\n",
    "data_input_file = 'data_input.txt'"
   ]
  },
  {
   "cell_type": "code",
   "execution_count": 17,
   "metadata": {},
   "outputs": [],
   "source": [
    "# data = example_file\n",
    "data = data_input_file\n",
    "df = pd.read_csv(data, sep=\":\", header=None)"
   ]
  },
  {
   "cell_type": "code",
   "execution_count": 18,
   "metadata": {},
   "outputs": [
    {
     "data": {
      "text/html": [
       "<div>\n",
       "<style scoped>\n",
       "    .dataframe tbody tr th:only-of-type {\n",
       "        vertical-align: middle;\n",
       "    }\n",
       "\n",
       "    .dataframe tbody tr th {\n",
       "        vertical-align: top;\n",
       "    }\n",
       "\n",
       "    .dataframe thead th {\n",
       "        text-align: right;\n",
       "    }\n",
       "</style>\n",
       "<table border=\"1\" class=\"dataframe\">\n",
       "  <thead>\n",
       "    <tr style=\"text-align: right;\">\n",
       "      <th></th>\n",
       "      <th>0</th>\n",
       "      <th>1</th>\n",
       "    </tr>\n",
       "  </thead>\n",
       "  <tbody>\n",
       "    <tr>\n",
       "      <th>0</th>\n",
       "      <td>13282106</td>\n",
       "      <td>9 7 244 864 689 9</td>\n",
       "    </tr>\n",
       "    <tr>\n",
       "      <th>1</th>\n",
       "      <td>16028321</td>\n",
       "      <td>10 437 7 727 385 8 1</td>\n",
       "    </tr>\n",
       "    <tr>\n",
       "      <th>2</th>\n",
       "      <td>1718</td>\n",
       "      <td>1 9 1 46 8 339</td>\n",
       "    </tr>\n",
       "    <tr>\n",
       "      <th>3</th>\n",
       "      <td>4075146</td>\n",
       "      <td>39 9 8 514 6</td>\n",
       "    </tr>\n",
       "    <tr>\n",
       "      <th>4</th>\n",
       "      <td>32764104</td>\n",
       "      <td>3 7 8 2 5 1 3 263 7 85 2 6</td>\n",
       "    </tr>\n",
       "  </tbody>\n",
       "</table>\n",
       "</div>"
      ],
      "text/plain": [
       "          0                            1\n",
       "0  13282106            9 7 244 864 689 9\n",
       "1  16028321         10 437 7 727 385 8 1\n",
       "2      1718               1 9 1 46 8 339\n",
       "3   4075146                 39 9 8 514 6\n",
       "4  32764104   3 7 8 2 5 1 3 263 7 85 2 6"
      ]
     },
     "execution_count": 18,
     "metadata": {},
     "output_type": "execute_result"
    }
   ],
   "source": [
    "df.head()"
   ]
  },
  {
   "cell_type": "code",
   "execution_count": 19,
   "metadata": {},
   "outputs": [
    {
     "data": {
      "text/plain": [
       "[9, 7, 244, 864, 689, 9]"
      ]
     },
     "execution_count": 19,
     "metadata": {},
     "output_type": "execute_result"
    }
   ],
   "source": [
    "list_string = (df[1][0].split())\n",
    "list(map(int, list_string))"
   ]
  },
  {
   "cell_type": "code",
   "execution_count": 20,
   "metadata": {},
   "outputs": [
    {
     "name": "stdout",
     "output_type": "stream",
     "text": [
      "13282106\n"
     ]
    }
   ],
   "source": [
    "print(df[0][0])"
   ]
  },
  {
   "cell_type": "code",
   "execution_count": 21,
   "metadata": {},
   "outputs": [],
   "source": [
    "from itertools import product"
   ]
  },
  {
   "cell_type": "code",
   "execution_count": 22,
   "metadata": {},
   "outputs": [
    {
     "name": "stdout",
     "output_type": "stream",
     "text": [
      "(0, 0)\n",
      "(0, 1)\n",
      "(0, 2)\n",
      "(1, 0)\n",
      "(1, 1)\n",
      "(1, 2)\n",
      "(2, 0)\n",
      "(2, 1)\n",
      "(2, 2)\n"
     ]
    }
   ],
   "source": [
    "items = [0, 1 , 2]\n",
    "for item in product(items, repeat=2):\n",
    "    print(item)"
   ]
  },
  {
   "cell_type": "code",
   "execution_count": 23,
   "metadata": {},
   "outputs": [
    {
     "name": "stdout",
     "output_type": "stream",
     "text": [
      "10010\n"
     ]
    }
   ],
   "source": [
    "import math\n",
    "def concatenate_ints(x, y):\n",
    "    if y != 0:\n",
    "        a = math.floor(math.log10(y))\n",
    "    else:\n",
    "        a = -1\n",
    "\n",
    "    return int(x*10**(1+a)+y)\n",
    "\n",
    "print(concatenate_ints(100,10))"
   ]
  },
  {
   "cell_type": "code",
   "execution_count": 24,
   "metadata": {},
   "outputs": [
    {
     "name": "stdout",
     "output_type": "stream",
     "text": [
      "[0, 1, 3, 6, 8, 9, 10, 12, 13, 14, 17, 19, 20, 21, 22, 23, 25, 26, 27, 29, 30, 31, 33, 35, 36, 39, 40, 41, 42, 44, 45, 47, 48, 49, 50, 52, 53, 54, 55, 56, 57, 58, 59, 60, 61, 62, 63, 64, 67, 68, 69, 70, 71, 73, 74, 76, 79, 80, 81, 82, 83, 84, 86, 87, 88, 91, 93, 96, 99, 100, 101, 102, 103, 105, 107, 108, 110, 112, 114, 116, 117, 118, 119, 122, 123, 124, 125, 126, 127, 128, 129, 130, 131, 133, 134, 135, 137, 138, 139, 140, 141, 142, 144, 146, 147, 148, 149, 150, 151, 153, 154, 155, 156, 157, 158, 159, 160, 161, 163, 164, 165, 166, 167, 168, 169, 171, 172, 174, 175, 176, 177, 179, 180, 181, 182, 184, 186, 187, 188, 189, 191, 192, 193, 194, 195, 196, 198, 200, 201, 202, 203, 205, 206, 208, 209, 210, 211, 212, 214, 215, 216, 218, 219, 220, 221, 222, 223, 225, 226, 227, 229, 231, 232, 233, 235, 237, 239, 240, 245, 246, 247, 248, 249, 251, 254, 255, 256, 257, 258, 259, 260, 261, 262, 263, 264, 265, 266, 267, 268, 269, 270, 271, 272, 273, 274, 275, 277, 279, 281, 286, 289, 290, 291, 292, 294, 298, 299, 301, 303, 304, 305, 306, 308, 310, 314, 316, 319, 321, 323, 326, 327, 328, 329, 330, 331, 332, 333, 334, 337, 338, 339, 340, 341, 342, 343, 344, 345, 352, 353, 355, 356, 357, 359, 360, 361, 362, 365, 366, 367, 368, 370, 371, 372, 373, 374, 376, 377, 378, 379, 380, 381, 382, 383, 385, 386, 387, 389, 390, 392, 393, 394, 395, 396, 397, 401, 402, 403, 404, 406, 407, 408, 410, 412, 414, 415, 418, 419, 422, 423, 424, 425, 426, 427, 428, 429, 430, 431, 432, 433, 434, 435, 436, 437, 438, 442, 443, 444, 446, 448, 449, 450, 452, 453, 454, 459, 460, 461, 462, 463, 464, 465, 466, 468, 470, 471, 472, 473, 476, 477, 478, 479, 481, 482, 483, 485, 486, 487, 488, 489, 491, 492, 493, 495, 497, 499, 500, 502, 503, 504, 506, 508, 509, 510, 511, 512, 513, 515, 516, 518, 519, 521, 522, 524, 525, 526, 527, 528, 529, 531, 532, 533, 534, 535, 537, 539, 541, 542, 543, 544, 546, 547, 548, 549, 550, 551, 552, 554, 555, 557, 558, 559, 561, 562, 564, 565, 566, 567, 568, 569, 571, 572, 573, 574, 575, 576, 577, 578, 579, 580, 581, 582, 583, 584, 585, 586, 587, 590, 591, 592, 593, 594, 595, 596, 597, 600, 601, 602, 604, 607, 608, 609, 610, 611, 612, 613, 614, 615, 616, 617, 619, 620, 621, 622, 623, 624, 625, 626, 627, 628, 630, 631, 632, 633, 635, 636, 637, 638, 640, 641, 643, 645, 646, 647, 648, 649, 650, 651, 652, 653, 654, 655, 657, 658, 660, 661, 662, 665, 667, 668, 669, 670, 671, 672, 673, 675, 676, 677, 678, 679, 682, 684, 685, 686, 687, 688, 689, 690, 693, 694, 695, 696, 699, 702, 705, 706, 707, 709, 710, 711, 713, 714, 716, 717, 718, 719, 723, 724, 725, 726, 727, 729, 730, 731, 732, 734, 735, 737, 738, 739, 740, 743, 744, 745, 747, 748, 749, 750, 751, 752, 754, 757, 758, 761, 762, 763, 764, 765, 766, 767, 768, 769, 770, 772, 773, 774, 775, 776, 777, 778, 779, 780, 781, 783, 785, 786, 787, 788, 789, 790, 791, 792, 793, 794, 795, 796, 797, 799, 801, 803, 804, 805, 807, 808, 809, 810, 811, 812, 813, 814, 815, 816, 817, 818, 819, 820, 821, 822, 824, 825, 826, 827, 829, 830, 831, 832, 833, 834, 835, 836, 837, 838, 840, 841, 842, 843, 844, 845, 846, 847, 848, 849]\n",
      "189207836795655\n"
     ]
    }
   ],
   "source": [
    "valid_equations_list = []\n",
    "total_calib_result = 0\n",
    "for i in range(len(df)):\n",
    "    #print(\"iteration: \", i)\n",
    "    expected_total = df[0][i]\n",
    "    #print(expected_total)\n",
    "    number_list_string = (df[1][i].split())\n",
    "    number_list = list(map(int, number_list_string))\n",
    "    #print(number_list)\n",
    "    num_of_possible_combination = 2**(len(number_list)-1)\n",
    "    # for number in range(num_of_possible_combination):\n",
    "    #     operands_list = [int(ii) for ii in list('{0:0b}'.format(number))]\n",
    "    #     print(operands_list)\n",
    "    equation_valid = False\n",
    "    for operands_list in product(items, repeat=len(number_list)-1):\n",
    "        #print(operands_list)\n",
    "        total = number_list[0]\n",
    "        for ii, operand in enumerate(operands_list):\n",
    "            if operand == 0:\n",
    "                total = total + number_list[ii+1]\n",
    "            elif operand == 1:\n",
    "                total = total * number_list[ii+1]\n",
    "            elif operand == 2:\n",
    "                total = concatenate_ints(total,number_list[ii+1])\n",
    "        if total == expected_total:\n",
    "            equation_valid = True \n",
    "            #print(total)\n",
    "            #break\n",
    "    if equation_valid:\n",
    "        valid_equations_list.append(i)\n",
    "        #print(total_calib_result, expected_total)\n",
    "        total_calib_result = total_calib_result + expected_total\n",
    "\n",
    "print(valid_equations_list)\n",
    "print(total_calib_result)\n",
    "        #print(total)\n",
    "            "
   ]
  }
 ],
 "metadata": {
  "kernelspec": {
   "display_name": "Python 3",
   "language": "python",
   "name": "python3"
  },
  "language_info": {
   "codemirror_mode": {
    "name": "ipython",
    "version": 3
   },
   "file_extension": ".py",
   "mimetype": "text/x-python",
   "name": "python",
   "nbconvert_exporter": "python",
   "pygments_lexer": "ipython3",
   "version": "3.12.4"
  }
 },
 "nbformat": 4,
 "nbformat_minor": 2
}
