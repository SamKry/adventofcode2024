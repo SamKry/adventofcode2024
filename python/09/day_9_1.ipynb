{
 "cells": [
  {
   "cell_type": "code",
   "execution_count": 32,
   "metadata": {},
   "outputs": [],
   "source": [
    "import numpy as np\n",
    "import pandas as pd"
   ]
  },
  {
   "cell_type": "code",
   "execution_count": 33,
   "metadata": {},
   "outputs": [],
   "source": [
    "data_input_file = 'dataDo.txt'"
   ]
  },
  {
   "cell_type": "code",
   "execution_count": 34,
   "metadata": {},
   "outputs": [],
   "source": [
    "data = data_input_file"
   ]
  },
  {
   "cell_type": "code",
   "execution_count": 35,
   "metadata": {},
   "outputs": [
    {
     "name": "stdout",
     "output_type": "stream",
     "text": [
      "[]\n",
      "[3 7 8 ... 9 0 2]\n"
     ]
    }
   ],
   "source": [
    "input_array = np.zeros(0, dtype=int)\n",
    "print(input_array)\n",
    "# read line by line\n",
    "with open(data) as f:\n",
    "    for line in f:\n",
    "        for x1, element in enumerate(line):\n",
    "            if element != '.' and element.isalnum():\n",
    "                input_array = np.append(input_array, [int(element)])\n",
    "print(input_array)"
   ]
  },
  {
   "cell_type": "code",
   "execution_count": 36,
   "metadata": {},
   "outputs": [
    {
     "name": "stdout",
     "output_type": "stream",
     "text": [
      "[50000     0     0     0     0] 5\n"
     ]
    }
   ],
   "source": [
    "ID_array = np.zeros(5, dtype=int)\n",
    "ID_array[0] = 50000\n",
    "print(ID_array, ID_array.shape[0])"
   ]
  },
  {
   "cell_type": "code",
   "execution_count": 37,
   "metadata": {},
   "outputs": [],
   "source": [
    "\n",
    "def make_ID_array(input_array):\n",
    "    big_number = 50000\n",
    "    ID_array = np.zeros(0, dtype=int)\n",
    "    ID_array = np.zeros(0)\n",
    "    is_space_block = False\n",
    "    for index, number in enumerate(input_array):\n",
    "        #print(index, number)\n",
    "        if not is_space_block:\n",
    "            temp_array = np.ones(number, dtype=int)*(index/2)\n",
    "        else:\n",
    "            temp_array = np.ones(number, dtype=int)*np.nan\n",
    "        #print(temp_array)\n",
    "        ID_array = np.append(ID_array, temp_array)\n",
    "        is_space_block = not is_space_block\n",
    "    #print(ID_array)\n",
    "    return ID_array\n",
    "# ID_array = make_ID_array(input_array)\n",
    "# ID_array_flipped = np.flip(ID_array)\n",
    "# ID_array_flipped = np.delete(ID_array_flipped, 0)\n",
    "# print(ID_array_flipped)\n",
    "\n"
   ]
  },
  {
   "cell_type": "code",
   "execution_count": 38,
   "metadata": {},
   "outputs": [
    {
     "name": "stdout",
     "output_type": "stream",
     "text": [
      "[ 0.  0.  0. ... nan nan nan]\n"
     ]
    }
   ],
   "source": [
    "ID_array = make_ID_array(input_array)\n",
    "def sort_ID_array(ID_array):\n",
    "    ID_array_updated = ID_array.copy()\n",
    "    ID_array_flipped = np.flip(ID_array_updated)\n",
    "    ID_array_flipped_no_nan = ID_array_flipped[~np.isnan(ID_array_flipped)] \n",
    "    length_of_nan = ID_array_flipped_no_nan.shape[0]\n",
    "    #print(length_of_nan)\n",
    "    #print(ID_array_flipped_no_nan)\n",
    "    for index, element in enumerate(ID_array_updated):\n",
    "        if index < length_of_nan:\n",
    "            if np.isnan(element):\n",
    "                ID_array_updated[index] = ID_array_flipped_no_nan[0]\n",
    "                ID_array_flipped_no_nan = np.delete(ID_array_flipped_no_nan, 0)\n",
    "                # print(ID_array_updated)\n",
    "                # print(ID_array_flipped_no_nan)\n",
    "        else:\n",
    "            ID_array_updated[index] = np.nan\n",
    "    return ID_array_updated\n",
    "ID_array_updated = sort_ID_array(ID_array)\n",
    "print(ID_array_updated)"
   ]
  },
  {
   "cell_type": "code",
   "execution_count": 39,
   "metadata": {},
   "outputs": [],
   "source": [
    "def find_checksum(ID_array):\n",
    "    checksum = 0\n",
    "    for index, element in enumerate(ID_array):\n",
    "        if not np.isnan(element): \n",
    "            checksum = checksum + index*element\n",
    "    return checksum\n"
   ]
  },
  {
   "cell_type": "code",
   "execution_count": 40,
   "metadata": {},
   "outputs": [
    {
     "name": "stdout",
     "output_type": "stream",
     "text": [
      "6378826667552.0\n"
     ]
    }
   ],
   "source": [
    "checksum = find_checksum(ID_array_updated)\n",
    "print(checksum)"
   ]
  }
 ],
 "metadata": {
  "kernelspec": {
   "display_name": "Python 3",
   "language": "python",
   "name": "python3"
  },
  "language_info": {
   "codemirror_mode": {
    "name": "ipython",
    "version": 3
   },
   "file_extension": ".py",
   "mimetype": "text/x-python",
   "name": "python",
   "nbconvert_exporter": "python",
   "pygments_lexer": "ipython3",
   "version": "3.11.5"
  }
 },
 "nbformat": 4,
 "nbformat_minor": 2
}
